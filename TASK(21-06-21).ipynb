{
 "cells": [
  {
   "cell_type": "markdown",
   "metadata": {},
   "source": [
    "Create arrays with all the data types available in numpy."
   ]
  },
  {
   "cell_type": "code",
   "execution_count": null,
   "metadata": {},
   "outputs": [],
   "source": [
    "import numpy as np"
   ]
  },
  {
   "cell_type": "code",
   "execution_count": 13,
   "metadata": {},
   "outputs": [
    {
     "name": "stdout",
     "output_type": "stream",
     "text": [
      "[False  True False  True]\n",
      "bool\n"
     ]
    }
   ],
   "source": [
    "#boolean\n",
    "x = np.array([False, True, False, True], dtype = 'bool_')\n",
    "print(x)\n",
    "print(x.dtype)"
   ]
  },
  {
   "cell_type": "code",
   "execution_count": 14,
   "metadata": {},
   "outputs": [
    {
     "name": "stdout",
     "output_type": "stream",
     "text": [
      "[3 9 6]\n",
      "int32\n"
     ]
    }
   ],
   "source": [
    "#integer\n",
    "x = np.array([3, 9, 6], dtype = 'int_')\n",
    "print(x)\n",
    "print(x.dtype)"
   ]
  },
  {
   "cell_type": "code",
   "execution_count": 15,
   "metadata": {},
   "outputs": [
    {
     "name": "stdout",
     "output_type": "stream",
     "text": [
      "[2.3  5.2  2.09 4.01 2.46]\n",
      "float64\n"
     ]
    }
   ],
   "source": [
    "#Float\n",
    "x = np.array([2.3, 5.2, 2.09, 4.01, 2.46], dtype = 'float_')\n",
    "print(x)\n",
    "print(x.dtype)"
   ]
  },
  {
   "cell_type": "code",
   "execution_count": 18,
   "metadata": {},
   "outputs": [
    {
     "name": "stdout",
     "output_type": "stream",
     "text": [
      "[b'a' b'r' b'm']\n",
      "|S1\n"
     ]
    }
   ],
   "source": [
    "#string\n",
    "x = np.array(['a', 'r', 'm'], dtype = 'S')\n",
    "print(x)\n",
    "print(x.dtype)"
   ]
  },
  {
   "cell_type": "code",
   "execution_count": 9,
   "metadata": {},
   "outputs": [
    {
     "name": "stdout",
     "output_type": "stream",
     "text": [
      "[3.+1.j  1.-2.j  2.+2.2j]\n",
      "complex128\n"
     ]
    }
   ],
   "source": [
    "#complex\n",
    "x = np.array([3+1j, 1-2j, 2+2.2j], dtype = 'complex_')\n",
    "print(x)\n",
    "print(x.dtype)"
   ]
  },
  {
   "cell_type": "code",
   "execution_count": 10,
   "metadata": {},
   "outputs": [
    {
     "name": "stdout",
     "output_type": "stream",
     "text": [
      "['9' '8' '7' '6']\n",
      "<U1\n"
     ]
    }
   ],
   "source": [
    "#unicode\n",
    "x = np.array([9, 8, 7, 6], dtype = 'U')\n",
    "print(x)\n",
    "print(x.dtype)"
   ]
  },
  {
   "cell_type": "code",
   "execution_count": 11,
   "metadata": {},
   "outputs": [
    {
     "name": "stdout",
     "output_type": "stream",
     "text": [
      "[9 8 7 6]\n",
      "uint8\n"
     ]
    }
   ],
   "source": [
    "#unsloved integer\n",
    "x = np.array([9, 8, 7, 6], dtype = 'uint8')\n",
    "print(x)\n",
    "print(x.dtype)"
   ]
  },
  {
   "cell_type": "code",
   "execution_count": 12,
   "metadata": {},
   "outputs": [
    {
     "name": "stdout",
     "output_type": "stream",
     "text": [
      "[[9 8]\n",
      " [7 1]\n",
      " [6.9 4.2]\n",
      " ['dude' 'bruh']]\n",
      "object\n"
     ]
    }
   ],
   "source": [
    "#object\n",
    "x = np.array([[9, 8], [7, 1], [6.9, 4.2], ['dude', 'bruh']], dtype = 'O')\n",
    "print(x)\n",
    "print(x.dtype)"
   ]
  },
  {
   "cell_type": "code",
   "execution_count": null,
   "metadata": {},
   "outputs": [],
   "source": []
  }
 ],
 "metadata": {
  "kernelspec": {
   "display_name": "Python 3",
   "language": "python",
   "name": "python3"
  },
  "language_info": {
   "codemirror_mode": {
    "name": "ipython",
    "version": 3
   },
   "file_extension": ".py",
   "mimetype": "text/x-python",
   "name": "python",
   "nbconvert_exporter": "python",
   "pygments_lexer": "ipython3",
   "version": "3.8.5"
  }
 },
 "nbformat": 4,
 "nbformat_minor": 4
}
