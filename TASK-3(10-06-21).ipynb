{
 "cells": [
  {
   "cell_type": "code",
   "execution_count": 5,
   "metadata": {},
   "outputs": [
    {
     "name": "stdout",
     "output_type": "stream",
     "text": [
      "Enter your input: ADITYA\n",
      "Length of your string is 6\n",
      "Length of your string is Even\n",
      "Middle character of your string is IT\n"
     ]
    }
   ],
   "source": [
    "#Even Case\n",
    "x = input(\"Enter your input: \")\n",
    "print('Length of your string is', len(x))\n",
    "if (len(x) % 2 == 0):\n",
    "    print(\"Length of your string is Even\")\n",
    "else:\n",
    "    print(\"Length of your string is Odd\")\n",
    "def middle_char(x):\n",
    "    return x[(len(x)-1)//2:(len(x)+2)//2]\n",
    "print(\"Middle character of your string is\", middle_char(x))"
   ]
  },
  {
   "cell_type": "code",
   "execution_count": 6,
   "metadata": {},
   "outputs": [
    {
     "name": "stdout",
     "output_type": "stream",
     "text": [
      "Enter your input: KRISHNA\n",
      "Length of your string is 7\n",
      "Length of your string is Odd\n",
      "Middle character of your string is S\n"
     ]
    }
   ],
   "source": [
    "x = input(\"Enter your input: \")\n",
    "print('Length of your string is', len(x))\n",
    "if (len(x) % 2 == 0):\n",
    "    print(\"Length of your string is Even\")\n",
    "else:\n",
    "    print(\"Length of your string is Odd\")\n",
    "def middle_char(x):\n",
    "    return x[(len(x)-1)//2:(len(x)+2)//2]\n",
    "print(\"Middle character of your string is\", middle_char(x))"
   ]
  },
  {
   "cell_type": "code",
   "execution_count": null,
   "metadata": {},
   "outputs": [],
   "source": []
  }
 ],
 "metadata": {
  "kernelspec": {
   "display_name": "Python 3",
   "language": "python",
   "name": "python3"
  },
  "language_info": {
   "codemirror_mode": {
    "name": "ipython",
    "version": 3
   },
   "file_extension": ".py",
   "mimetype": "text/x-python",
   "name": "python",
   "nbconvert_exporter": "python",
   "pygments_lexer": "ipython3",
   "version": "3.8.5"
  }
 },
 "nbformat": 4,
 "nbformat_minor": 4
}
